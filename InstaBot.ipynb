{
 "cells": [
  {
   "cell_type": "code",
   "execution_count": 1,
   "metadata": {},
   "outputs": [
    {
     "name": "stdout",
     "output_type": "stream",
     "text": [
      "Fail to import moviepy. Need only for Video upload.\n"
     ]
    }
   ],
   "source": [
    "from InstagramAPI import InstagramAPI\n",
    "import requests\n",
    "import pandas as pd\n",
    "import time\n",
    "from time import gmtime, strftime\n",
    "import functions\n",
    "import random"
   ]
  },
  {
   "cell_type": "code",
   "execution_count": 10,
   "metadata": {},
   "outputs": [],
   "source": [
    "# api = InstagramAPI(\"kkkkartinki\", \"nzDFENghrKsg7CZ\")\n",
    "# api.login()"
   ]
  },
  {
   "cell_type": "code",
   "execution_count": null,
   "metadata": {},
   "outputs": [],
   "source": [
    "# api.follow()"
   ]
  },
  {
   "cell_type": "code",
   "execution_count": 5,
   "metadata": {},
   "outputs": [],
   "source": [
    "# api.getTotalFollowers('546224532')"
   ]
  },
  {
   "cell_type": "code",
   "execution_count": 4,
   "metadata": {},
   "outputs": [],
   "source": [
    "# functions.getTotalFollowers(api), '546224532')"
   ]
  },
  {
   "cell_type": "code",
   "execution_count": null,
   "metadata": {},
   "outputs": [],
   "source": []
  },
  {
   "cell_type": "code",
   "execution_count": 3,
   "metadata": {},
   "outputs": [],
   "source": [
    "class InstaBot:\n",
    "    def __init__(self, username, password, target_user = None):\n",
    "        \"\"\"username (str), password (str), target_user (str)\"\"\"\n",
    "        self.username = username #set username\n",
    "        self.password = password #set password\n",
    "        api = InstagramAPI(username, password) # provide login information\n",
    "        api.login() #login\n",
    "        self.uID = functions.getID(api) # get current user ID number\n",
    "        if target_user is not None: #to get information about the target user if specified\n",
    "            self.tID = functions.get_usr_id(target_user) #get target user ID number\n",
    "            self.target_u_followers = functions.getTotalFollowers(api, self.tID) #get target user followers\n",
    "            self.len = len(self.target_u_followers) #count length\n",
    "        self.hist = list(functions.get_history().followed_hist) # get history of followings\n",
    "        self.histtime = list(functions.get_history().datetime)\n",
    "        self.followings = functions.getTotalFollows(api, self.uID) # get list of users already followed\n",
    "        self.followers = functions.getTotalFollowers(api, self.uID) # get list of users follow current user\n",
    "        \n",
    "        \n",
    "    def promote(self, N):\n",
    "        \"\"\"N - number of randomly chosen accounts among followers of target user\"\"\"\n",
    "        to_follow = []\n",
    "        indices = []\n",
    "        iter_ = 0\n",
    "        # get numbet of accounts to choose for following\n",
    "        if type(N) != int:\n",
    "            print(\"Введите, пожалуйста, целое число:\")\n",
    "            N = int(input())\n",
    "        if N >= self.len: #check for not being out of range\n",
    "            print(f\"Число слишком большое. Введите число менее {self.len}:\")\n",
    "            N = int(input())\n",
    "        #  choose unique N indicies for accounts to follow\n",
    "        while len(to_follow)<N:\n",
    "            if iter_ < N*2:\n",
    "                i = random.randint(0, N)\n",
    "                if i not in indices:\n",
    "                    indices.append(i)\n",
    "                    to_follow.append(self.target_u_followers[i])\n",
    "                    iter_ += 1\n",
    "            else:\n",
    "                break\n",
    "        \n",
    "        to_follow_clear = []\n",
    "        for name in to_follow:\n",
    "            #check for presense in history\n",
    "            if (name not in self.followings) and (name not in self.hist):\n",
    "                to_follow_clear.append(name)\n",
    "        if len(to_follow_clear) < N/2:\n",
    "            print(f\"Было отобрано менее 50% от запрошенного числа. Большое число имен идентичны тем, на которые аккаунт подписан либо безрезультано был подписан ранее.\")# Повторить поиск? Введите Да или Нет\")\n",
    "\n",
    "        self.to_follow_clear = to_follow_clear\n",
    "        \n",
    "        print(f\"Введите 'Да', чтобы подписаться на {len(to_follow_clear)} аккаунтов:\")\n",
    "        action = input()\n",
    "        if action == 'Да':\n",
    "            date_current = strftime(\"%Y-%m-%d %H:%M:%S\", gmtime())\n",
    "            api = InstagramAPI(self.username, self.password)\n",
    "            api.login()\n",
    "            functions.follow_user_list(api, to_follow_clear)\n",
    "            new_hist = self.hist\n",
    "            new_hist.extend(to_follow_clear)\n",
    "            new_datetime = self.histtime\n",
    "            for i in range(len(to_follow_clear)):\n",
    "                new_datetime.append(date_current)\n",
    "            excel_file = pd.read_excel(\"History.xlsx\")\n",
    "            excel_file[\"followed_hist\"] = new_hist\n",
    "            excel_file[\"datetime\"] = new_datetime\n",
    "            excel_file.to_excel(\"History.xlsx\")\n",
    "            print(\"Готово!\")\n",
    "        \n",
    "        return to_follow_clear\n",
    "    \n",
    "    def remove_nonreciprocal(self, mode = \"all\"):\n",
    "        \"\"\"\n",
    "        mode = \"all\" (defualt) means unfollow all unmutual no matter for how long you follow them\n",
    "        other options: \"by_datetime\"\n",
    "        \"\"\"\n",
    "        non_mutuals = []\n",
    "        if mode = \"all\":\n",
    "            for user in self.hist:\n",
    "                if user not in self.followers: #choose not mutual\n",
    "                    non_mutuals.append(user)\n",
    "        \n",
    "        return non_mutuals\n",
    "                "
   ]
  },
  {
   "cell_type": "code",
   "execution_count": null,
   "metadata": {},
   "outputs": [],
   "source": []
  },
  {
   "cell_type": "code",
   "execution_count": null,
   "metadata": {},
   "outputs": [],
   "source": []
  },
  {
   "cell_type": "code",
   "execution_count": 4,
   "metadata": {},
   "outputs": [
    {
     "name": "stdout",
     "output_type": "stream",
     "text": [
      "Request return 429 error!\n",
      "{'message': 'Please wait a few minutes before you try again.', 'status': 'fail'}\n",
      "Request return 405 error!\n",
      "{'message': '', 'status': 'fail'}\n",
      "Request return 404 error!\n",
      "Login success!\n",
      "\n"
     ]
    }
   ],
   "source": [
    "bot = InstaBot(\"kkkkartinki\", \"nzDFENghrKsg7CZ\", target_user=\"mulla_.2\")\n",
    "\n",
    "# Those messages are always present, but the result is success so they can be ignored\n",
    "# The're a part of source code of the package function\n",
    "\n",
    "#Request return 405 error!\n",
    "#{'message': '', 'status': 'fail'}\n",
    "#Request return 404 error!"
   ]
  },
  {
   "cell_type": "code",
   "execution_count": 6,
   "metadata": {},
   "outputs": [
    {
     "data": {
      "text/plain": [
       "358"
      ]
     },
     "execution_count": 6,
     "metadata": {},
     "output_type": "execute_result"
    }
   ],
   "source": [
    "bot.len"
   ]
  },
  {
   "cell_type": "code",
   "execution_count": 7,
   "metadata": {},
   "outputs": [
    {
     "data": {
      "text/plain": [
       "[]"
      ]
     },
     "execution_count": 7,
     "metadata": {},
     "output_type": "execute_result"
    }
   ],
   "source": [
    "bot.followers"
   ]
  },
  {
   "cell_type": "code",
   "execution_count": 8,
   "metadata": {},
   "outputs": [
    {
     "data": {
      "text/plain": [
       "['instagram', 'amberrose']"
      ]
     },
     "execution_count": 8,
     "metadata": {},
     "output_type": "execute_result"
    }
   ],
   "source": [
    "bot.followings"
   ]
  },
  {
   "cell_type": "code",
   "execution_count": 9,
   "metadata": {},
   "outputs": [
    {
     "data": {
      "text/plain": [
       "[]"
      ]
     },
     "execution_count": 9,
     "metadata": {},
     "output_type": "execute_result"
    }
   ],
   "source": [
    "bot.hist"
   ]
  },
  {
   "cell_type": "code",
   "execution_count": 10,
   "metadata": {},
   "outputs": [
    {
     "data": {
      "text/plain": [
       "'nzDFENghrKsg7CZ'"
      ]
     },
     "execution_count": 10,
     "metadata": {},
     "output_type": "execute_result"
    }
   ],
   "source": [
    "bot.password"
   ]
  },
  {
   "cell_type": "code",
   "execution_count": 11,
   "metadata": {},
   "outputs": [
    {
     "data": {
      "text/plain": [
       "'28974293539'"
      ]
     },
     "execution_count": 11,
     "metadata": {},
     "output_type": "execute_result"
    }
   ],
   "source": [
    "bot.tID"
   ]
  },
  {
   "cell_type": "code",
   "execution_count": 12,
   "metadata": {},
   "outputs": [
    {
     "data": {
      "text/plain": [
       "358"
      ]
     },
     "execution_count": 12,
     "metadata": {},
     "output_type": "execute_result"
    }
   ],
   "source": [
    "len(bot.target_u_followers)"
   ]
  },
  {
   "cell_type": "code",
   "execution_count": 13,
   "metadata": {},
   "outputs": [
    {
     "data": {
      "text/plain": [
       "['jimmym_99',\n",
       " 'first_playa',\n",
       " 'dengwebber',\n",
       " '_amal_noushad_',\n",
       " '_bnyamin_63',\n",
       " 'esther_madreviajera',\n",
       " 'angellielizabeth',\n",
       " '_grace_danny_',\n",
       " 'dj.fratt',\n",
       " 'ert.1up',\n",
       " 'daud_170',\n",
       " 'elisabalagova',\n",
       " 'privvvv_mel_niki',\n",
       " '___b1.___',\n",
       " 'bhadbxtch8',\n",
       " 'mohammedsameerquadri',\n",
       " '_angelina067',\n",
       " 'your_babyy_gyal',\n",
       " '_armando_mikula',\n",
       " 'krishdewa__',\n",
       " 'trendinguk',\n",
       " 'aaishap_2706',\n",
       " 'tamannaadil_02',\n",
       " 'most_wantedsav12',\n",
       " 'yxng.sadiya',\n",
       " 'arham_raees',\n",
       " 'millez_1',\n",
       " 'aaliyahxx_priv',\n",
       " '_.m4tthew',\n",
       " 'fariya_rafixx',\n",
       " 'chefkissmemes',\n",
       " 'semaylmz220',\n",
       " 'yogesh._singh_',\n",
       " 'benz_aufff',\n",
       " 'ukdripdoctor',\n",
       " '_saam0305',\n",
       " 'ma.rianne_13',\n",
       " '_fidel_barrerez_cat',\n",
       " 'alexxharlem_',\n",
       " '_a_cats_world',\n",
       " 'jpck.23',\n",
       " 'kami.london',\n",
       " 'mareyvillafuerte',\n",
       " 'irvarnaaa.xo',\n",
       " 'ismatjusab',\n",
       " '_simonaa_17',\n",
       " 'sxdz_x',\n",
       " 'emran_1225',\n",
       " 'amirahh_k.xox',\n",
       " '__devil_irfan___',\n",
       " 'ii_yxf',\n",
       " 'madalin_vancea_',\n",
       " 'evangalinee_',\n",
       " 'ruqiyaxhussein',\n",
       " 'maiab29',\n",
       " 'sandra.godlovax',\n",
       " 'renyy._14',\n",
       " 'ricardoturtak_',\n",
       " 'nazaha_458',\n",
       " 'bxbygirl.mai',\n",
       " 'ria.xox.x',\n",
       " 'latifa__xoxox',\n",
       " 'thepregamepod',\n",
       " '1.patrosinador',\n",
       " 'the_pocket_shop_',\n",
       " 'investor_williams2222',\n",
       " 'juanmanuel7621',\n",
       " 'itz_yr_girl_dior_',\n",
       " 'j5_.hudhayfah',\n",
       " 'brabus_hp',\n",
       " 'abidraza819',\n",
       " 'ankush_verma1610',\n",
       " '_safiyaxk',\n",
       " 'fin12.01',\n",
       " 'everlynxo',\n",
       " 's1enna.xo',\n",
       " '_.exprincessprivv._',\n",
       " 'mufassa786',\n",
       " 'axliah_.x',\n",
       " 'babusule7',\n",
       " 'x_khadeeja',\n",
       " 'aliciamai14',\n",
       " '_.merouane07',\n",
       " 'manji_2004',\n",
       " 'aisha.m0hamm3d',\n",
       " 'joshplaskett',\n",
       " 'dotty__1',\n",
       " 'aaishap_priv_2706',\n",
       " 's.h.a.d___',\n",
       " '_.r4saucy_',\n",
       " 'nimatxoxox',\n",
       " 'yxng_r1_._',\n",
       " 'unknown_lish',\n",
       " 'le1lani_x',\n",
       " 'faez_.a9',\n",
       " 'xxsafasulemanxx',\n",
       " '_.tannisha.x26',\n",
       " 'chavez_468',\n",
       " 'aaminahw19',\n",
       " '_._.h1._._']"
      ]
     },
     "execution_count": 13,
     "metadata": {},
     "output_type": "execute_result"
    }
   ],
   "source": [
    "bot.target_u_followers[:100]"
   ]
  },
  {
   "attachments": {
    "image.png": {
     "image/png": "[encoded data removed]"
    }
   },
   "cell_type": "markdown",
   "metadata": {},
   "source": [
    "![image.png](attachment:image.png)"
   ]
  },
  {
   "cell_type": "code",
   "execution_count": 17,
   "metadata": {},
   "outputs": [],
   "source": [
    "list_ = bot.promote(50)"
   ]
  },
  {
   "cell_type": "code",
   "execution_count": 18,
   "metadata": {},
   "outputs": [
    {
     "data": {
      "text/plain": [
       "['4_24_6',\n",
       " 'paparazzii777',\n",
       " 'anya_kuzmenkova',\n",
       " 'manata_27',\n",
       " 'maria_sumlinova',\n",
       " 'olesya_fv',\n",
       " 'almirnasyrov',\n",
       " 'olgaerofeeva123',\n",
       " 'innal2206',\n",
       " '_yamshikova_',\n",
       " 'annanovikova1393',\n",
       " 'odna_takaya1503',\n",
       " 's_moskovkina',\n",
       " 'tatromb',\n",
       " 'sapeginasvetlanasergeevna',\n",
       " 'viktoriyaarbuzova',\n",
       " 'happy_successful_and_loved',\n",
       " 'comofazer.cursos',\n",
       " 'evgeniya_pastukhova',\n",
       " 'lidia_cherli',\n",
       " 'lokky007',\n",
       " 'ta_chto_v_lesakh',\n",
       " 'potapovanatalia42890',\n",
       " 'alice88807',\n",
       " 'mikhalchukann',\n",
       " 'tsavro_natalia',\n",
       " 'slo_luna',\n",
       " 's.vetlanka1994',\n",
       " 'nata_snig',\n",
       " 'ekaterinafedorova_',\n",
       " 'maria.taradonova',\n",
       " 'katy_chin_chin',\n",
       " 'netvoyesobachyedeloo',\n",
       " 'andrey_dvoeglazov',\n",
       " 'bulygina24',\n",
       " 'nadya_dudorova',\n",
       " 'i_inga21',\n",
       " 'amor__________fati',\n",
       " 'anewsuperhero',\n",
       " 'p_anton86',\n",
       " 'kotovrass',\n",
       " 'stogova771',\n",
       " 'id.someone',\n",
       " 'slvolkov',\n",
       " 'lz_lesa',\n",
       " 'olga_ligacheva',\n",
       " 'lochmatova_nata',\n",
       " 'gorochkina_13',\n",
       " 'svetlanazhikhareva',\n",
       " 'kasatka757']"
      ]
     },
     "execution_count": 18,
     "metadata": {},
     "output_type": "execute_result"
    }
   ],
   "source": [
    "list_"
   ]
  },
  {
   "cell_type": "code",
   "execution_count": null,
   "metadata": {},
   "outputs": [],
   "source": []
  },
  {
   "cell_type": "code",
   "execution_count": null,
   "metadata": {},
   "outputs": [],
   "source": []
  },
  {
   "cell_type": "code",
   "execution_count": null,
   "metadata": {},
   "outputs": [],
   "source": []
  },
  {
   "cell_type": "code",
   "execution_count": null,
   "metadata": {},
   "outputs": [],
   "source": []
  },
  {
   "cell_type": "code",
   "execution_count": null,
   "metadata": {},
   "outputs": [],
   "source": []
  },
  {
   "cell_type": "code",
   "execution_count": null,
   "metadata": {},
   "outputs": [],
   "source": []
  },
  {
   "cell_type": "code",
   "execution_count": null,
   "metadata": {},
   "outputs": [],
   "source": []
  },
  {
   "cell_type": "code",
   "execution_count": null,
   "metadata": {},
   "outputs": [],
   "source": []
  },
  {
   "cell_type": "code",
   "execution_count": null,
   "metadata": {},
   "outputs": [],
   "source": []
  },
  {
   "cell_type": "code",
   "execution_count": null,
   "metadata": {},
   "outputs": [],
   "source": []
  },
  {
   "cell_type": "code",
   "execution_count": null,
   "metadata": {},
   "outputs": [],
   "source": []
  }
 ],
 "metadata": {
  "kernelspec": {
   "display_name": "Python 3",
   "language": "python",
   "name": "python3"
  },
  "language_info": {
   "codemirror_mode": {
    "name": "ipython",
    "version": 3
   },
   "file_extension": ".py",
   "mimetype": "text/x-python",
   "name": "python",
   "nbconvert_exporter": "python",
   "pygments_lexer": "ipython3",
   "version": "3.6.8"
  }
 },
 "nbformat": 4,
 "nbformat_minor": 2
}
