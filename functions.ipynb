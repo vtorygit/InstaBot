{
 "cells": [
  {
   "cell_type": "code",
   "execution_count": 7,
   "metadata": {},
   "outputs": [],
   "source": [
    "import requests\n",
    "import openpyxl\n",
    "import pandas as pd"
   ]
  },
  {
   "cell_type": "code",
   "execution_count": 2,
   "metadata": {},
   "outputs": [],
   "source": [
    "def getID(api):\n",
    "    uID = api.username_id #get username id as an attribute of api object created by package InstagramAPI\n",
    "    return uID"
   ]
  },
  {
   "cell_type": "code",
   "execution_count": 6,
   "metadata": {},
   "outputs": [],
   "source": [
    "def getTotalFollowers(api, user_id, is_pop = True,output = \"usernames\"):\n",
    "    \"\"\"\n",
    "    api = Instagram api object with login()\n",
    "    user_id = pk number or api.username_id value. To get your id, run getUserID() on api\n",
    "    is_pop = True (default) means that account has more than 10000 followers. If True,\n",
    "    the number of followers list is limited to 10000. To avoid it specify is_pop=False\n",
    "    output = \"usernames\" (default), \"pk\", \"full\"\n",
    "    -----------\n",
    "    Returns the list of followers of the user.\n",
    "    It should be equivalent of calling api.getTotalFollowers from InstagramAPI\n",
    "    \n",
    "    To get followers of self account, do not specify user_id. Otherwise enter 'pk' entity.\n",
    "    Output can be usernames, ID's or full (json)\n",
    "    \"\"\"\n",
    "\n",
    "    # it's an upgraded version of getUserFollowers function from InstagramAPI package\n",
    "    # that solves problems with extraction of limited number of followers\n",
    "    \n",
    "    import time\n",
    "    followers = []\n",
    "    next_max_id = True\n",
    "    if is_pop == True:\n",
    "        while next_max_id:\n",
    "            # first iteration hack\n",
    "            if next_max_id is True:\n",
    "                next_max_id = ''\n",
    "\n",
    "            _ = api.getUserFollowers(user_id, maxid=next_max_id) #\"_\" keeps the last value\n",
    "            # this solution was provided in github issue comments to the package used\n",
    "            followers.extend(api.LastJson.get('users', []))\n",
    "            next_max_id = api.LastJson.get('next_max_id', '')\n",
    "            if len(followers) >= 10000:\n",
    "                next_max_id = False\n",
    "            time.sleep(3) #to avoid blocking, was added by me after being blocked for 24h\n",
    "    else:\n",
    "        while next_max_id:\n",
    "            # first iteration hack\n",
    "            if next_max_id is True:\n",
    "                next_max_id = ''\n",
    "\n",
    "            _ = api.getUserFollowers(user_id, maxid=next_max_id) #\"_\" keeps the last value\n",
    "            # this solution was provided in github issue comments to the package used\n",
    "            followers.extend(api.LastJson.get('users', []))\n",
    "            next_max_id = api.LastJson.get('next_max_id', '')\n",
    "            time.sleep(3)\n",
    "        \n",
    "    if output != \"full\": #full output means returning all the possible information\n",
    "        follows_list = []\n",
    "        for user in followers:\n",
    "            if output == \"usernames\": # to return the list of usernames\n",
    "                follows_list.append(user['username'])\n",
    "            else:\n",
    "                follows_list.append(user['pk']) #to return the list of IDs\n",
    "        return follows_list\n",
    "    else: #return full informations as JSON\n",
    "        return followers\n"
   ]
  },
  {
   "cell_type": "code",
   "execution_count": 8,
   "metadata": {},
   "outputs": [],
   "source": [
    "def getTotalFollows(api, user_id, output = \"usernames\"):\n",
    "    \"\"\"\n",
    "    api = Instagram api object with login()\n",
    "    user_id = pk number or api.username_id value. To get your id, run getUserID() on api\n",
    "    output = \"usernames\" (default), \"pk\", \"full\"\n",
    "    \n",
    "    Returns the list of followers of the user.\n",
    "    It should be equivalent of calling api.getTotalFollowers from InstagramAPI\n",
    "    \n",
    "    To get followers of self account, do not specify user_id. Otherwise enter 'pk' entity.\n",
    "    Output can be usernames, ID's or full (json)\n",
    "    \"\"\"\n",
    "\n",
    "    import time\n",
    "    follows = []\n",
    "    next_max_id = True\n",
    "    while next_max_id:\n",
    "        # first iteration hack\n",
    "        if next_max_id is True:\n",
    "            next_max_id = ''\n",
    "\n",
    "        _ = api.getUserFollowings(user_id, maxid=next_max_id) #works the same way but with different function from package\n",
    "        follows.extend(api.LastJson.get('users', []))\n",
    "        next_max_id = api.LastJson.get('next_max_id', '')\n",
    "        time.sleep(1) #to avoid blocking\n",
    "    if output != \"full\":\n",
    "        followings_list = []\n",
    "        for user in follows:\n",
    "            if output == \"usernames\":\n",
    "                followings_list.append(user['username'])\n",
    "            else:\n",
    "                followings_list.append(user['pk'])\n",
    "        return followings_list\n",
    "    else:\n",
    "        return follows"
   ]
  },
  {
   "cell_type": "code",
   "execution_count": 8,
   "metadata": {},
   "outputs": [],
   "source": [
    "def get_usr_id(username):\n",
    "    \"username (str) - enter the name of Istagram user to get ID\"\n",
    "#     print(\"Введите имя пользователя:\")\n",
    "#     username = str(input())\n",
    "    url = f\"https://www.instagram.com/{username}/?__a=1\"\n",
    "    #this website is a JSON with needed information about any account\n",
    "    get_page = requests.get(url)\n",
    "    id_ = get_page.json()['graphql']['user']['id']\n",
    "    return id_"
   ]
  },
  {
   "cell_type": "code",
   "execution_count": null,
   "metadata": {},
   "outputs": [],
   "source": [
    "def get_history(filename = \"History.xlsx\"):\n",
    "    \"\"\"filename = name of excel file with 'followed_hist' as first column header \"\"\"\n",
    "    try:\n",
    "        file = pd.read_excel(filename) #read file if it is in the directory and provided by user\n",
    "        return file\n",
    "    except FileNotFoundError: #if the file is not found, create\n",
    "        wb = openpyxl.Workbook()\n",
    "        ws = wb.active\n",
    "        ws.title = \"History\"\n",
    "        sheet_h = wb[\"History\"]\n",
    "        sheet_h['A1'] = \"followed_hist\"\n",
    "        sheet_h['B1'] = \"datetime\"\n",
    "        wb.save(filename)\n",
    "        file_ = pd.read_excel(filename)\n",
    "        return file_\n",
    "    "
   ]
  },
  {
   "cell_type": "code",
   "execution_count": null,
   "metadata": {},
   "outputs": [],
   "source": [
    "def follow_user_list(api, userlist):\n",
    "    for user in userlist:\n",
    "        ID = get_usr_id(user)\n",
    "        api.follow(ID)\n",
    "        time.sleep(5)"
   ]
  },
  {
   "cell_type": "code",
   "execution_count": null,
   "metadata": {},
   "outputs": [],
   "source": []
  }
 ],
 "metadata": {
  "kernelspec": {
   "display_name": "Python 3",
   "language": "python",
   "name": "python3"
  },
  "language_info": {
   "codemirror_mode": {
    "name": "ipython",
    "version": 3
   },
   "file_extension": ".py",
   "mimetype": "text/x-python",
   "name": "python",
   "nbconvert_exporter": "python",
   "pygments_lexer": "ipython3",
   "version": "3.6.8"
  }
 },
 "nbformat": 4,
 "nbformat_minor": 2
}
