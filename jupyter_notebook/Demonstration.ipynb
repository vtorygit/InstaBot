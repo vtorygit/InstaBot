{
 "cells": [
  {
   "cell_type": "markdown",
   "metadata": {},
   "source": [
    "Импортировать необходимый класс из файла Bot_src"
   ]
  },
  {
   "cell_type": "code",
   "execution_count": 1,
   "metadata": {},
   "outputs": [],
   "source": [
    "from Bot_src import Igbot"
   ]
  },
  {
   "cell_type": "markdown",
   "metadata": {},
   "source": [
    "Задать значения для имени пользователя и пароля"
   ]
  },
  {
   "cell_type": "code",
   "execution_count": 6,
   "metadata": {},
   "outputs": [],
   "source": [
    "# user = \"randan_hse\"\n",
    "# pswrd = \"jeglikkeandan\"\n",
    "user = \"ra_rara2020\"\n",
    "pswrd = \"nzDFENghrKsg7CZ\""
   ]
  },
  {
   "cell_type": "markdown",
   "metadata": {},
   "source": [
    "Инициировать работу бота"
   ]
  },
  {
   "cell_type": "code",
   "execution_count": 7,
   "metadata": {},
   "outputs": [],
   "source": [
    "bot = Igbot(user, pswrd)"
   ]
  },
  {
   "cell_type": "markdown",
   "metadata": {},
   "source": [
    "Запустить функции для получения подписчиков и подписок того аккаунта, с которого был совершен вход, а также целевого аккаунта."
   ]
  },
  {
   "cell_type": "code",
   "execution_count": 8,
   "metadata": {},
   "outputs": [],
   "source": [
    "my_followers = bot.getUserFollowers(user, 0, mode = \"followers\")\n",
    "my_followings = bot.getUserFollowers(user, 1, mode = \"followings\")\n",
    "user_f = bot.getUserFollowers(\"nike\", 60)"
   ]
  },
  {
   "cell_type": "markdown",
   "metadata": {},
   "source": [
    "Осуществить отбор аккаунтов для подписки с указанием их числа. Число не должно превышать 10 для подписки в час, чтобы с большой вероятностью избежать блокировки инстаграммом."
   ]
  },
  {
   "cell_type": "code",
   "execution_count": 9,
   "metadata": {},
   "outputs": [
    {
     "name": "stdout",
     "output_type": "stream",
     "text": [
      "Введите 'Да', чтобы подписаться на 2 аккаунтов:\n",
      "https://www.instagram.com/ahmed_6225/\n",
      "https://www.instagram.com/diogovann.azis_10/\n",
      "Да\n",
      "Готово!\n"
     ]
    },
    {
     "data": {
      "text/plain": [
       "['https://www.instagram.com/ahmed_6225/',\n",
       " 'https://www.instagram.com/diogovann.azis_10/']"
      ]
     },
     "execution_count": 9,
     "metadata": {},
     "output_type": "execute_result"
    }
   ],
   "source": [
    "bot.promote(2, user_f, my_followers, my_followings)"
   ]
  },
  {
   "cell_type": "markdown",
   "metadata": {},
   "source": [
    "Ниже приведен пример использования функционала для удаления из числа подписок тех аккаунтов, которые не подписались в ответ."
   ]
  },
  {
   "cell_type": "code",
   "execution_count": 11,
   "metadata": {},
   "outputs": [],
   "source": [
    "bot = Igbot(user, pswrd)"
   ]
  },
  {
   "cell_type": "code",
   "execution_count": 12,
   "metadata": {},
   "outputs": [],
   "source": [
    "my_followers = bot.getUserFollowers(user, 0, mode = \"followers\")\n",
    "my_followings = bot.getUserFollowers(user, 2, mode = \"followings\")"
   ]
  },
  {
   "cell_type": "code",
   "execution_count": null,
   "metadata": {},
   "outputs": [],
   "source": [
    "bot.unfollow_unmut(my_followers, my_followings)\n",
    "# Не уверена, что будет работать, но механизм тот же, что и для подписок (жмется одна и та же кнопка)"
   ]
  },
  {
   "cell_type": "code",
   "execution_count": null,
   "metadata": {},
   "outputs": [],
   "source": []
  }
 ],
 "metadata": {
  "kernelspec": {
   "display_name": "Python 3",
   "language": "python",
   "name": "python3"
  },
  "language_info": {
   "codemirror_mode": {
    "name": "ipython",
    "version": 3
   },
   "file_extension": ".py",
   "mimetype": "text/x-python",
   "name": "python",
   "nbconvert_exporter": "python",
   "pygments_lexer": "ipython3",
   "version": "3.6.8"
  }
 },
 "nbformat": 4,
 "nbformat_minor": 2
}
