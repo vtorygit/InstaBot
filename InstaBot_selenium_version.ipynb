{
 "cells": [
  {
   "cell_type": "code",
   "execution_count": 1,
   "metadata": {},
   "outputs": [],
   "source": [
    "from selenium import webdriver\n",
    "from selenium.webdriver import ChromeOptions\n",
    "from time import sleep\n"
   ]
  },
  {
   "cell_type": "code",
   "execution_count": 2,
   "metadata": {},
   "outputs": [],
   "source": [
    "start_page = \"https://www.instagram.com/\"\n",
    "# user = \"randan_hse\"\n",
    "# pswrd = \"jeglikkeandan\"\n",
    "user = \"kkkkartinki\"\n",
    "pswrd = \"nzDFENghrKsg7CZ\""
   ]
  },
  {
   "cell_type": "code",
   "execution_count": 3,
   "metadata": {},
   "outputs": [],
   "source": [
    "class Igbot:\n",
    "    def __init__(self, username, password):\n",
    "        self.username = username\n",
    "        options = ChromeOptions()\n",
    "        options.add_argument(\"--start-maximized\")\n",
    "        self.driver = webdriver.Chrome(options = options) #to make it full screen\n",
    "        self.driver.get(\"https://www.instagram.com/\")\n",
    "        sleep(3)\n",
    "        self.driver.find_element_by_xpath(\"//input[@name = 'username']\").send_keys(username)\n",
    "        sleep(1)\n",
    "        self.driver.find_element_by_xpath(\"//input[@name = 'password']\").send_keys(password)\n",
    "        sleep(1)\n",
    "        self.driver.find_element_by_xpath(\"//button[@type = 'submit']/div[contains(text(),'Log In')]\").click()\n",
    "        sleep(3)\n",
    "        self.driver.find_element_by_xpath(\"//button[contains(text(),'Not Now')]\").click()\n",
    "        \n",
    "    def get_follows_and_followers(self):\n",
    "        self.driver.find_element_by_xpath(\"//a[@href = '/glupie.kartinki/']\").click() # go to user page\n",
    "        \n",
    "        \n",
    "#         self.driver.find_element_by_xpath(\"//a[contains(@href,'/glupie.kartinki/following/')]\").click()\n",
    "#         self.driver.find_element_by_xpath(\"a[@class='-nal3 ']\").click()\n",
    "#         /glupie.kartinki/following/\n",
    "        \n",
    "        "
   ]
  },
  {
   "cell_type": "markdown",
   "metadata": {},
   "source": [
    "Указанные в явном виде пути к подписчикам не работают из-за изменений в фронтэнд-составляющей инстаграма, который борется с ботами"
   ]
  },
  {
   "cell_type": "code",
   "execution_count": 4,
   "metadata": {},
   "outputs": [
    {
     "data": {
      "text/plain": [
       "<__main__.Igbot at 0x7fc4ec32dc18>"
      ]
     },
     "execution_count": 4,
     "metadata": {},
     "output_type": "execute_result"
    }
   ],
   "source": [
    "Igbot(user, pswrd)"
   ]
  },
  {
   "cell_type": "code",
   "execution_count": null,
   "metadata": {},
   "outputs": [],
   "source": []
  }
 ],
 "metadata": {
  "kernelspec": {
   "display_name": "Python 3",
   "language": "python",
   "name": "python3"
  },
  "language_info": {
   "codemirror_mode": {
    "name": "ipython",
    "version": 3
   },
   "file_extension": ".py",
   "mimetype": "text/x-python",
   "name": "python",
   "nbconvert_exporter": "python",
   "pygments_lexer": "ipython3",
   "version": "3.6.8"
  }
 },
 "nbformat": 4,
 "nbformat_minor": 2
}
