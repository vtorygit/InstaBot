{
 "cells": [
  {
   "cell_type": "code",
   "execution_count": 3,
   "metadata": {},
   "outputs": [],
   "source": [
    "from selenium import webdriver\n",
    "from selenium.webdriver import ChromeOptions\n",
    "from time import sleep\n",
    "from selenium.webdriver.common.keys import Keys\n",
    "from numpy import random"
   ]
  },
  {
   "cell_type": "code",
   "execution_count": 4,
   "metadata": {},
   "outputs": [],
   "source": [
    "start_page = \"https://www.instagram.com/\"\n",
    "# user = \"randan_hse\"\n",
    "# pswrd = \"jeglikkeandan\"\n",
    "user = \"ra_rara2020\"\n",
    "pswrd = \"nzDFENghrKsg7CZ\""
   ]
  },
  {
   "cell_type": "code",
   "execution_count": 16,
   "metadata": {},
   "outputs": [],
   "source": [
    "class Igbot:\n",
    "    def __init__(self, username, password, mode = \"UI\"):\n",
    "        \"\"\"\n",
    "        (username, password, mode = \"UI\")\n",
    "        ---------\n",
    "        username - enter username for account to perform actions \n",
    "        password - enter the one coreespondign to username\n",
    "        mode = 'UI' to have a Chrome window opened or 'headless' just to get results returned\n",
    "        \n",
    "        This function initialises the selenium browser with login.\n",
    "        \"\"\"\n",
    "        self.username = username\n",
    "        options = ChromeOptions()\n",
    "        options.add_argument(\"--start-maximized\") #make full screen size\n",
    "        if mode == 'headless':\n",
    "            options.add_argument('headless') #to avoid chrome window open and speed up \n",
    "        self.driver = webdriver.Chrome(options = options) #to make full screen\n",
    "        self.driver.get(\"https://www.instagram.com/\") #connect to start page\n",
    "        sleep(3) #wait\n",
    "        self.driver.find_element_by_xpath(\"//input[@name = 'username']\").send_keys(username) #type in username\n",
    "        sleep(1)\n",
    "        self.driver.find_element_by_xpath(\"//input[@name = 'password']\").send_keys(password) #type in password\n",
    "        sleep(1)\n",
    "        self.driver.find_element_by_xpath(\"//button[@type = 'submit']/div[contains(text(),'Log In')]\").click() # click login\n",
    "        \n",
    "        \n",
    "        try:\n",
    "            self.driver.find_element_by_xpath(\"/html/body/div[1]/section/div/div/div[3]/form/div[2]/span/button\").click() #confirm the enter if needed\n",
    "        except:\n",
    "            pass\n",
    "        \n",
    "        if mode == \"UI\":\n",
    "            try:\n",
    "                sleep(5)\n",
    "                self.driver.find_element_by_xpath(\"//button[contains(text(),'Not Now')]\").click() #close pop-up window with \"Not now\"\n",
    "            except:\n",
    "                print(\"\"\"Не удалось войти в аккаунт. Пожалуйста, проверьте правильность введенных логина и пароля. Если все верно, попробуйте осуществить вход вручную через браузер и подтвердить почту либо номер телефона, к которому привязан аккаунт\"\"\")\n",
    "\n",
    "    \n",
    "    def getUserFollowers(self, username, N, mode = \"followers\"):\n",
    "        \"\"\"\n",
    "        (self, username, N, mode = \"followers\")\n",
    "        ---------\n",
    "        username - the user to collect following or followers of\n",
    "        N - how many people names to collect\n",
    "        mode - one of 'followers' or 'followings'. Which information to collect: followers or followings\n",
    "        \n",
    "        This function collects the followers or following list by the username provided\n",
    "        \"\"\"\n",
    "        self.driver.get('https://www.instagram.com/' + username)\n",
    "#         followersLink = self.driver.find_element_by_css_selector('ul li a')\n",
    "        if mode == \"followings\":\n",
    "            followersLink = self.driver.find_element_by_xpath('/html/body/div[1]/section/main/div/header/section/ul/li[3]/a') #followings\n",
    "        else:\n",
    "            followersLink = self.driver.find_element_by_xpath('/html/body/div[1]/section/main/div/header/section/ul/li[2]/a') #followers\n",
    "        followersLink.click()\n",
    "        sleep(2)\n",
    "        followersList = self.driver.find_element_by_css_selector('div[role=\\'dialog\\'] ul')\n",
    "        numberOfFollowersInList = len(followersList.find_elements_by_css_selector('li'))\n",
    "        followersList.click()\n",
    "        scrollbox = self.driver.find_element_by_xpath('/html/body/div[4]/div/div[2]')\n",
    "        while numberOfFollowersInList < N:\n",
    "            numberOfFollowersInList = len(followersList.find_elements_by_css_selector('li'))\n",
    "            self.driver.execute_script(\"arguments[0].scrollTop = arguments[0].scrollHeight\", scrollbox)\n",
    "            sleep(random.randint(500,1000)/1000)       \n",
    "        followers = []\n",
    "        for user in followersList.find_elements_by_css_selector('li'):\n",
    "            userLink = user.find_element_by_css_selector('a').get_attribute('href')\n",
    "            followers.append(userLink)\n",
    "            if (len(followers) == max):\n",
    "                break\n",
    "        return followers # return last N followers\n",
    "    \n",
    "    def promote(self, N, target_u_followers, current_followers):\n",
    "        \"\"\"\n",
    "        (self, N, target_u_followers, current_followers)\n",
    "        --------\n",
    "        N - number of randomly chosen accounts among followers of target user\n",
    "        target_u_followers - the result of getUserFollowers(), a list of names collected\n",
    "        current_followers - the followers you already have as a list\n",
    "        \n",
    "        This function chooses N accounts for you to follow and conducts following\n",
    "        \"\"\"\n",
    "        to_follow = []\n",
    "        indices = []\n",
    "        iter_ = 0\n",
    "        # get numbet of accounts to choose for following\n",
    "        if type(N) != int:\n",
    "            print(\"Введите, пожалуйста, целое число:\")\n",
    "            N = int(input())\n",
    "        if N >= 10: #check for not being out of range\n",
    "            print(f\"Число слишком большое. Введите число менее 10, поскольку одновременная подписка на большее число аккаунтов блокируется\") #исходя из лимита подписок в час без блокировки действия\n",
    "            N = int(input())\n",
    "        #  choose unique N indicies for accounts to follow\n",
    "        while len(to_follow)<N:\n",
    "            if iter_ < N*2:\n",
    "                i = random.randint(0, N)\n",
    "                if i not in indices:\n",
    "                    indices.append(i)\n",
    "                    to_follow.append(target_u_followers[i])\n",
    "                    iter_ += 1\n",
    "            else:\n",
    "                break\n",
    "        \n",
    "        to_follow_clear = []\n",
    "        for name in to_follow:\n",
    "            #check for presense in history\n",
    "            if (name not in current_followers): #and (name not in self.hist):\n",
    "                to_follow_clear.append(name)\n",
    "        self.to_follow_clear = to_follow_clear\n",
    "        print(f\"Введите 'Да', чтобы подписаться на {len(to_follow_clear)} аккаунтов:\")\n",
    "        for u in to_follow_clear:\n",
    "            print(u) #to see the accounts chosen\n",
    "        action = input()\n",
    "        if action == 'Да':\n",
    "#             date_current = strftime(\"%Y-%m-%d %H:%M:%S\", gmtime())\n",
    "            for user in to_follow_clear:\n",
    "                url = user\n",
    "                self.driver.get(url)\n",
    "                sleep(3)\n",
    "#                 self.driver.execute_script(\"arguments[0].scrollTop = arguments[0].scrollHeight\")\n",
    "#                 sleep(1)\n",
    "                self.driver.find_element_by_css_selector('button').click() #click follow\n",
    "                sleep(10)\n",
    "#             new_hist = self.hist\n",
    "#             new_hist.extend(to_follow_clear)\n",
    "#             new_datetime = self.histtime\n",
    "#             for i in range(len(to_follow_clear)):\n",
    "#                 new_datetime.append(date_current)\n",
    "#             excel_file = pd.read_excel(\"History.xlsx\")\n",
    "#             excel_file[\"followed_hist\"] = new_hist\n",
    "#             excel_file[\"datetime\"] = new_datetime\n",
    "#             excel_file.to_excel(\"History.xlsx\")\n",
    "            print(\"Готово!\")\n",
    "        \n",
    "        return to_follow_clear"
   ]
  },
  {
   "cell_type": "code",
   "execution_count": 15,
   "metadata": {},
   "outputs": [
    {
     "name": "stdout",
     "output_type": "stream",
     "text": [
      "Не удалось войти в аккаунт. Пожалуйста, проверьте правильность введенных логина и пароля.\n",
      "                Если все верно, попробуйте осуществить вход вручную через браузер и подтвердить почту либо номер телефона, к которому привязан аккаунт\n"
     ]
    }
   ],
   "source": [
    "bot = Igbot(user, pswrd)"
   ]
  },
  {
   "cell_type": "code",
   "execution_count": 5,
   "metadata": {},
   "outputs": [],
   "source": [
    "user_f = bot.getUserFollowers(\"hse_ru\", 10)"
   ]
  },
  {
   "cell_type": "code",
   "execution_count": 6,
   "metadata": {},
   "outputs": [
    {
     "name": "stdout",
     "output_type": "stream",
     "text": [
      "Введите 'Да', чтобы подписаться на 2 аккаунтов:\n",
      "Да\n",
      "https://www.instagram.com/nadejda479gu/\n",
      "https://www.instagram.com/flopulter/\n",
      "Готово!\n"
     ]
    },
    {
     "data": {
      "text/plain": [
       "['https://www.instagram.com/nadejda479gu/',\n",
       " 'https://www.instagram.com/flopulter/']"
      ]
     },
     "execution_count": 6,
     "metadata": {},
     "output_type": "execute_result"
    }
   ],
   "source": [
    "bot.promote(2, user_f, [])"
   ]
  },
  {
   "cell_type": "code",
   "execution_count": 5,
   "metadata": {},
   "outputs": [
    {
     "data": {
      "text/plain": [
       "['https://www.instagram.com/cafemart25/',\n",
       " 'https://www.instagram.com/ludowic11/',\n",
       " 'https://www.instagram.com/newgeneration.2020/',\n",
       " 'https://www.instagram.com/litovinskaya/',\n",
       " 'https://www.instagram.com/adidasrussia/',\n",
       " 'https://www.instagram.com/pokrovka_hse/',\n",
       " 'https://www.instagram.com/rudn_university/',\n",
       " 'https://www.instagram.com/nust_misis/',\n",
       " 'https://www.instagram.com/urfu.ru/',\n",
       " 'https://www.instagram.com/itmoru/',\n",
       " 'https://www.instagram.com/official_msu/',\n",
       " 'https://www.instagram.com/shaninka/']"
      ]
     },
     "execution_count": 5,
     "metadata": {},
     "output_type": "execute_result"
    }
   ],
   "source": [
    "_.getUserFollowers(\"hse_ru\", 10) # equals to running Igbot(user, pswrd).getUserFollowers3(\"hse_ru\", 100)"
   ]
  },
  {
   "cell_type": "code",
   "execution_count": null,
   "metadata": {},
   "outputs": [],
   "source": []
  },
  {
   "cell_type": "code",
   "execution_count": null,
   "metadata": {},
   "outputs": [],
   "source": []
  },
  {
   "cell_type": "code",
   "execution_count": null,
   "metadata": {},
   "outputs": [],
   "source": []
  },
  {
   "cell_type": "code",
   "execution_count": null,
   "metadata": {},
   "outputs": [],
   "source": []
  },
  {
   "cell_type": "code",
   "execution_count": null,
   "metadata": {},
   "outputs": [],
   "source": []
  },
  {
   "cell_type": "code",
   "execution_count": null,
   "metadata": {},
   "outputs": [],
   "source": []
  },
  {
   "cell_type": "code",
   "execution_count": null,
   "metadata": {},
   "outputs": [],
   "source": []
  },
  {
   "cell_type": "code",
   "execution_count": null,
   "metadata": {},
   "outputs": [],
   "source": []
  },
  {
   "cell_type": "code",
   "execution_count": null,
   "metadata": {},
   "outputs": [],
   "source": [
    "url = 'https://www.instagram.com/iendyoubegin/'\n",
    "options = ChromeOptions()\n",
    "options.add_argument(\"--start-maximized\") #make full screen size\n",
    "driver = webdriver.Chrome(options = options) #to make full screen\n",
    "driver.get(url) #connect to start page\n",
    "sleep(3) #wait"
   ]
  }
 ],
 "metadata": {
  "kernelspec": {
   "display_name": "Python 3",
   "language": "python",
   "name": "python3"
  },
  "language_info": {
   "codemirror_mode": {
    "name": "ipython",
    "version": 3
   },
   "file_extension": ".py",
   "mimetype": "text/x-python",
   "name": "python",
   "nbconvert_exporter": "python",
   "pygments_lexer": "ipython3",
   "version": "3.6.8"
  }
 },
 "nbformat": 4,
 "nbformat_minor": 2
}
